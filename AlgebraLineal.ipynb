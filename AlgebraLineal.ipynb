{
 "cells": [
  {
   "cell_type": "markdown",
   "metadata": {},
   "source": [
    "# Algebra lineal\n",
    "*El algebra lineal es la mecánica de manipular vectores y matrices.*\n",
    "\n",
    "*Un vector puede tener distintas definiciones*\n",
    "\n",
    "**Los vectores son listas ordenadas de números**\n",
    "\n",
    "*Podemos guardar, por ejemplo, cuatro números en un solo vector.*\n",
    "\n",
    "*Vector fila*\n",
    "\n",
    "**v** $= \\begin{pmatrix}\n",
    "1 \\\n",
    "2 \\\n",
    "3 \\\n",
    "4 \\\n",
    "\\end{pmatrix}$\n",
    "\n",
    "\n",
    "*Vector columna*\n",
    "\n",
    "**v** $= \\begin{pmatrix}\n",
    "1 \\\\\n",
    "2 \\\\\n",
    "3 \\\\\n",
    "4\\\\\n",
    "\\end{pmatrix}$"
   ]
  },
  {
   "cell_type": "code",
   "execution_count": 3,
   "metadata": {},
   "outputs": [
    {
     "name": "stdout",
     "output_type": "stream",
     "text": [
      "[10.5, 5.2, 3.25, 7.0]\n"
     ]
    }
   ],
   "source": [
    "#Vector v1\n",
    "v = [10.5, 5.2, 3.25, 7.0]\n",
    "print(v)"
   ]
  },
  {
   "cell_type": "code",
   "execution_count": 5,
   "metadata": {},
   "outputs": [
    {
     "name": "stdout",
     "output_type": "stream",
     "text": [
      "[10.5   5.2   3.25  7.  ]\n"
     ]
    },
    {
     "data": {
      "text/plain": [
       "array([10.5 ,  5.2 ,  3.25,  7.  ])"
      ]
     },
     "execution_count": 5,
     "metadata": {},
     "output_type": "execute_result"
    }
   ],
   "source": [
    "import numpy as np\n",
    "v = np.array([10.5, 5.2, 3.25, 7.0])\n",
    "print(v)\n",
    "v"
   ]
  },
  {
   "cell_type": "markdown",
   "metadata": {},
   "source": [
    "# Operaciones de vectores\n",
    "**Adición o suma de vectores**\n",
    "\n",
    "**Sustracción o resta de vectores**\n",
    "\n",
    "**Multiplicación por escalar**\n",
    "\n",
    "**División por escalar**\n",
    "\n"
   ]
  },
  {
   "cell_type": "markdown",
   "metadata": {},
   "source": [
    "# Multiplicación de vectores\n",
    "Acá la cosa deja de ser sencilla. Hay distintas multiplicaciones de vectores\n",
    "\n",
    "**Producto punto **\n",
    "\n",
    "**Porducto cruz**\n"
   ]
  },
  {
   "cell_type": "markdown",
   "metadata": {},
   "source": [
    "# La norma de un vector"
   ]
  },
  {
   "cell_type": "code",
   "execution_count": null,
   "metadata": {},
   "outputs": [],
   "source": []
  }
 ],
 "metadata": {
  "kernelspec": {
   "display_name": "Python 3",
   "language": "python",
   "name": "python3"
  },
  "language_info": {
   "codemirror_mode": {
    "name": "ipython",
    "version": 3
   },
   "file_extension": ".py",
   "mimetype": "text/x-python",
   "name": "python",
   "nbconvert_exporter": "python",
   "pygments_lexer": "ipython3",
   "version": "3.7.3"
  }
 },
 "nbformat": 4,
 "nbformat_minor": 2
}
